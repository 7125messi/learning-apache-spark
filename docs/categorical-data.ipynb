{
 "cells": [
  {
   "cell_type": "code",
   "execution_count": 9,
   "metadata": {
    "collapsed": false
   },
   "outputs": [],
   "source": [
    "import pandas as pd\n",
    "pdf = pd.DataFrame({\n",
    "        'x1': ['a','a','b','b', 'b', 'c'],\n",
    "        'x2': ['apple', 'orange', 'orange','orange', 'peach', 'peach'],\n",
    "        'x3': [1, 1, 2, 2, 2, 4],\n",
    "        'x4': [2.4, 2.5, 3.5, 1.4, 2.1,1.5],\n",
    "        'y1': [1, 0, 1, 0, 0, 1],\n",
    "        'y2': ['yes', 'no', 'no', 'yes', 'yes', 'yes']\n",
    "    })\n",
    "df = spark.createDataFrame(pdf)"
   ]
  },
  {
   "cell_type": "code",
   "execution_count": 10,
   "metadata": {
    "collapsed": false
   },
   "outputs": [
    {
     "name": "stdout",
     "output_type": "stream",
     "text": [
      "+---+------+---+---+---+---+\n",
      "| x1|    x2| x3| x4| y1| y2|\n",
      "+---+------+---+---+---+---+\n",
      "|  a| apple|  1|2.4|  1|yes|\n",
      "|  a|orange|  1|2.5|  0| no|\n",
      "|  b|orange|  2|3.5|  1| no|\n",
      "|  b|orange|  2|1.4|  0|yes|\n",
      "|  b| peach|  2|2.1|  0|yes|\n",
      "|  c| peach|  4|1.5|  1|yes|\n",
      "+---+------+---+---+---+---+\n",
      "\n"
     ]
    }
   ],
   "source": [
    "df.show()"
   ]
  },
  {
   "cell_type": "code",
   "execution_count": 17,
   "metadata": {
    "collapsed": false
   },
   "outputs": [
    {
     "name": "stdout",
     "output_type": "stream",
     "text": [
      "+---+------+---+---+---+---+----------+\n",
      "| x1|    x2| x3| x4| y1| y2|indexed_x1|\n",
      "+---+------+---+---+---+---+----------+\n",
      "|  a| apple|  1|2.4|  1|yes|       1.0|\n",
      "|  a|orange|  1|2.5|  0| no|       1.0|\n",
      "|  b|orange|  2|3.5|  1| no|       0.0|\n",
      "|  b|orange|  2|1.4|  0|yes|       0.0|\n",
      "|  b| peach|  2|2.1|  0|yes|       0.0|\n",
      "|  c| peach|  4|1.5|  1|yes|       2.0|\n",
      "+---+------+---+---+---+---+----------+\n",
      "\n"
     ]
    }
   ],
   "source": [
    "from pyspark.ml.feature import StringIndexer\n",
    "\n",
    "# build indexer\n",
    "string_indexer = StringIndexer(inputCol='x1', outputCol='indexed_x1')\n",
    "\n",
    "# learn the model\n",
    "string_indexer_model = string_indexer.fit(df)\n",
    "\n",
    "# transform the data\n",
    "df_stringindexer = string_indexer_model.transform(df)\n",
    "\n",
    "# resulting df\n",
    "df_stringindexer.show()"
   ]
  },
  {
   "cell_type": "code",
   "execution_count": 18,
   "metadata": {
    "collapsed": false
   },
   "outputs": [
    {
     "name": "stdout",
     "output_type": "stream",
     "text": [
      "+---+------+---+---+---+---+----------+----------------+\n",
      "| x1|    x2| x3| x4| y1| y2|indexed_x1|onehotencoded_x1|\n",
      "+---+------+---+---+---+---+----------+----------------+\n",
      "|  a| apple|  1|2.4|  1|yes|       1.0|   (2,[1],[1.0])|\n",
      "|  a|orange|  1|2.5|  0| no|       1.0|   (2,[1],[1.0])|\n",
      "|  b|orange|  2|3.5|  1| no|       0.0|   (2,[0],[1.0])|\n",
      "|  b|orange|  2|1.4|  0|yes|       0.0|   (2,[0],[1.0])|\n",
      "|  b| peach|  2|2.1|  0|yes|       0.0|   (2,[0],[1.0])|\n",
      "|  c| peach|  4|1.5|  1|yes|       2.0|       (2,[],[])|\n",
      "+---+------+---+---+---+---+----------+----------------+\n",
      "\n"
     ]
    }
   ],
   "source": [
    "from pyspark.ml.feature import OneHotEncoder\n",
    "\n",
    "# build indexer\n",
    "onehotencoder = OneHotEncoder(inputCol='indexed_x1', outputCol='onehotencoded_x1')\n",
    "\n",
    "# transform the data\n",
    "df_onehotencoder = onehotencoder.transform(df_stringindexer)\n",
    "\n",
    "# resulting df\n",
    "df_onehotencoder.show()"
   ]
  },
  {
   "cell_type": "code",
   "execution_count": 29,
   "metadata": {
    "collapsed": false
   },
   "outputs": [],
   "source": [
    "categorical_columns = ['x1', 'x2', 'x3']\n",
    "\n",
    "##=== build stages ======\n",
    "stringindexer_stages = [StringIndexer(inputCol=c, outputCol='stringindexed_' + c) for c in categorical_columns]\n",
    "onehotencoder_stages = [OneHotEncoder(inputCol='stringindexed_' + c, outputCol='onehotencoded_' + c) for c in categorical_columns]\n",
    "all_stages = stringindexer_stages + onehotencoder_stages\n",
    "\n",
    "## build pipeline model\n",
    "from pyspark.ml import Pipeline\n",
    "pipeline = Pipeline(stages=all_stages)\n",
    "\n",
    "## fit pipeline model\n",
    "pipeline_mode = pipeline.fit(df)\n",
    "\n",
    "## transform data\n",
    "df_coded = pipeline_mode.transform(df)\n",
    "\n",
    "## remove uncoded columns\n",
    "selected_columns = ['onehotencoded_' + c for c in categorical_columns] + ['x4', 'y1', 'y2']\n",
    "df_coded = df_coded.select(selected_columns)"
   ]
  },
  {
   "cell_type": "code",
   "execution_count": 30,
   "metadata": {
    "collapsed": false
   },
   "outputs": [
    {
     "name": "stdout",
     "output_type": "stream",
     "text": [
      "+----------------+----------------+----------------+---+---+---+\n",
      "|onehotencoded_x1|onehotencoded_x2|onehotencoded_x3| x4| y1| y2|\n",
      "+----------------+----------------+----------------+---+---+---+\n",
      "|   (2,[1],[1.0])|       (2,[],[])|   (2,[1],[1.0])|2.4|  1|yes|\n",
      "|   (2,[1],[1.0])|   (2,[0],[1.0])|   (2,[1],[1.0])|2.5|  0| no|\n",
      "|   (2,[0],[1.0])|   (2,[0],[1.0])|   (2,[0],[1.0])|3.5|  1| no|\n",
      "|   (2,[0],[1.0])|   (2,[0],[1.0])|   (2,[0],[1.0])|1.4|  0|yes|\n",
      "|   (2,[0],[1.0])|   (2,[1],[1.0])|   (2,[0],[1.0])|2.1|  0|yes|\n",
      "|       (2,[],[])|   (2,[1],[1.0])|       (2,[],[])|1.5|  1|yes|\n",
      "+----------------+----------------+----------------+---+---+---+\n",
      "\n"
     ]
    }
   ],
   "source": [
    "df_coded.show()"
   ]
  },
  {
   "cell_type": "code",
   "execution_count": 25,
   "metadata": {
    "collapsed": false
   },
   "outputs": [
    {
     "data": {
      "text/plain": [
       "['onehotencode_x1', 'onehotencode_x2', 'onehotencode_x3', 'y1', 'y2']"
      ]
     },
     "execution_count": 25,
     "metadata": {},
     "output_type": "execute_result"
    }
   ],
   "source": [
    "['onehotencode_' + c for c in categorical_columns] + ['y1', 'y2']"
   ]
  },
  {
   "cell_type": "code",
   "execution_count": 32,
   "metadata": {
    "collapsed": true
   },
   "outputs": [],
   "source": [
    "from pyspark.ml.feature import VectorAssembler\n",
    "\n",
    "# feature columns\n",
    "feature_columns = df_coded.columns[0:4]\n",
    "\n",
    "# build VectorAssembler instance\n",
    "vectorassembler = VectorAssembler(inputCols=feature_columns, outputCol='features')\n",
    "\n",
    "# transform data\n",
    "df_features = vectorassembler.transform(df_coded)"
   ]
  },
  {
   "cell_type": "code",
   "execution_count": 34,
   "metadata": {
    "collapsed": false
   },
   "outputs": [
    {
     "name": "stdout",
     "output_type": "stream",
     "text": [
      "+----------------+----------------+----------------+---+---+---+-----------------------------+\n",
      "|onehotencoded_x1|onehotencoded_x2|onehotencoded_x3|x4 |y1 |y2 |features                     |\n",
      "+----------------+----------------+----------------+---+---+---+-----------------------------+\n",
      "|(2,[1],[1.0])   |(2,[],[])       |(2,[1],[1.0])   |2.4|1  |yes|(7,[1,5,6],[1.0,1.0,2.4])    |\n",
      "|(2,[1],[1.0])   |(2,[0],[1.0])   |(2,[1],[1.0])   |2.5|0  |no |[0.0,1.0,1.0,0.0,0.0,1.0,2.5]|\n",
      "|(2,[0],[1.0])   |(2,[0],[1.0])   |(2,[0],[1.0])   |3.5|1  |no |[1.0,0.0,1.0,0.0,1.0,0.0,3.5]|\n",
      "|(2,[0],[1.0])   |(2,[0],[1.0])   |(2,[0],[1.0])   |1.4|0  |yes|[1.0,0.0,1.0,0.0,1.0,0.0,1.4]|\n",
      "|(2,[0],[1.0])   |(2,[1],[1.0])   |(2,[0],[1.0])   |2.1|0  |yes|[1.0,0.0,0.0,1.0,1.0,0.0,2.1]|\n",
      "|(2,[],[])       |(2,[1],[1.0])   |(2,[],[])       |1.5|1  |yes|(7,[3,6],[1.0,1.5])          |\n",
      "+----------------+----------------+----------------+---+---+---+-----------------------------+\n",
      "\n"
     ]
    }
   ],
   "source": [
    "df_features.show(truncate=False)"
   ]
  },
  {
   "cell_type": "code",
   "execution_count": null,
   "metadata": {
    "collapsed": true
   },
   "outputs": [],
   "source": []
  }
 ],
 "metadata": {
  "anaconda-cloud": {},
  "kernelspec": {
   "display_name": "Python [Root]",
   "language": "python",
   "name": "Python [Root]"
  },
  "language_info": {
   "codemirror_mode": {
    "name": "ipython",
    "version": 2
   },
   "file_extension": ".py",
   "mimetype": "text/x-python",
   "name": "python",
   "nbconvert_exporter": "python",
   "pygments_lexer": "ipython2",
   "version": "2.7.13"
  }
 },
 "nbformat": 4,
 "nbformat_minor": 2
}
