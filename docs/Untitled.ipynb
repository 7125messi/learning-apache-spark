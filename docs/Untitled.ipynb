{
 "cells": [
  {
   "cell_type": "code",
   "execution_count": 1,
   "metadata": {
    "collapsed": true
   },
   "outputs": [],
   "source": [
    "import numpy as np\n",
    "import pandas as pd"
   ]
  },
  {
   "cell_type": "code",
   "execution_count": 2,
   "metadata": {
    "collapsed": false
   },
   "outputs": [
    {
     "data": {
      "text/plain": [
       "array([ 0.16962012, -1.73478382,  0.72896683, -1.16598   , -0.25262239,\n",
       "       -1.32864276,  0.65537218,  0.29173412, -1.52854383, -1.1911671 ])"
      ]
     },
     "execution_count": 2,
     "metadata": {},
     "output_type": "execute_result"
    }
   ],
   "source": []
  },
  {
   "cell_type": "code",
   "execution_count": 20,
   "metadata": {
    "collapsed": false
   },
   "outputs": [],
   "source": [
    "np.random.seed(seed=1234)\n",
    "pdf = pd.DataFrame({\n",
    "        'x1': np.random.randn(10),\n",
    "        'x2': np.random.rand(10)*10\n",
    "    })\n",
    "np.random.seed(seed=None)"
   ]
  },
  {
   "cell_type": "code",
   "execution_count": 21,
   "metadata": {
    "collapsed": false
   },
   "outputs": [
    {
     "name": "stdout",
     "output_type": "stream",
     "text": [
      "+--------------------+------------------+\n",
      "|                  x1|                x2|\n",
      "+--------------------+------------------+\n",
      "| 0.47143516373249306| 6.834629351721363|\n",
      "| -1.1909756947064645| 7.127020269829002|\n",
      "|  1.4327069684260973|3.7025075479039495|\n",
      "| -0.3126518960917129| 5.611961860656249|\n",
      "| -0.7205887333650116| 5.030831653078097|\n",
      "|  0.8871629403077386|0.1376844959068224|\n",
      "|  0.8595884137174165| 7.728266216123741|\n",
      "| -0.6365235044173491| 8.826411906361166|\n",
      "|0.015696372114428918| 3.648859839013723|\n",
      "| -2.2426849541854055| 6.153961784334937|\n",
      "+--------------------+------------------+\n",
      "\n"
     ]
    }
   ],
   "source": [
    "df = spark.createDataFrame(pdf)\n",
    "df.show()"
   ]
  },
  {
   "cell_type": "code",
   "execution_count": 22,
   "metadata": {
    "collapsed": false
   },
   "outputs": [],
   "source": [
    "from pyspark.ml.feature import Binarizer, Bucketizer"
   ]
  },
  {
   "cell_type": "code",
   "execution_count": 24,
   "metadata": {
    "collapsed": false
   },
   "outputs": [
    {
     "name": "stdout",
     "output_type": "stream",
     "text": [
      "+--------------------+------------------+------+------+\n",
      "|                  x1|                x2|x1_new|x2_new|\n",
      "+--------------------+------------------+------+------+\n",
      "| 0.47143516373249306| 6.834629351721363|   1.0|   2.0|\n",
      "| -1.1909756947064645| 7.127020269829002|   0.0|   2.0|\n",
      "|  1.4327069684260973|3.7025075479039495|   1.0|   1.0|\n",
      "| -0.3126518960917129| 5.611961860656249|   0.0|   2.0|\n",
      "| -0.7205887333650116| 5.030831653078097|   0.0|   2.0|\n",
      "|  0.8871629403077386|0.1376844959068224|   1.0|   0.0|\n",
      "|  0.8595884137174165| 7.728266216123741|   1.0|   3.0|\n",
      "| -0.6365235044173491| 8.826411906361166|   0.0|   3.0|\n",
      "|0.015696372114428918| 3.648859839013723|   1.0|   1.0|\n",
      "| -2.2426849541854055| 6.153961784334937|   0.0|   2.0|\n",
      "+--------------------+------------------+------+------+\n",
      "\n"
     ]
    }
   ],
   "source": [
    "binarizer = Binarizer(threshold=0, inputCol='x1', outputCol='x1_new')\n",
    "# with n+1 split points, there are n buckets\n",
    "bucketizer = Bucketizer(splits=[0, 2.5, 5, 7.5, 10], inputCol='x2', outputCol='x2_new')\n",
    "stages = [binarizer, bucketizer]\n",
    "\n",
    "from pyspark.ml import Pipeline\n",
    "pipeline = Pipeline(stages=stages)\n",
    "\n",
    "pipeline.fit(df).transform(df).show()"
   ]
  },
  {
   "cell_type": "code",
   "execution_count": null,
   "metadata": {
    "collapsed": true
   },
   "outputs": [],
   "source": []
  }
 ],
 "metadata": {
  "anaconda-cloud": {},
  "kernelspec": {
   "display_name": "Python [Root]",
   "language": "python",
   "name": "Python [Root]"
  },
  "language_info": {
   "codemirror_mode": {
    "name": "ipython",
    "version": 2
   },
   "file_extension": ".py",
   "mimetype": "text/x-python",
   "name": "python",
   "nbconvert_exporter": "python",
   "pygments_lexer": "ipython2",
   "version": "2.7.13"
  }
 },
 "nbformat": 4,
 "nbformat_minor": 2
}
