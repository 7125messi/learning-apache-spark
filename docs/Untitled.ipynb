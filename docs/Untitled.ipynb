{
 "cells": [
  {
   "cell_type": "code",
   "execution_count": 1,
   "metadata": {
    "collapsed": true
   },
   "outputs": [],
   "source": [
    "import nltk\n",
    "from nltk.corpus import gutenberg"
   ]
  },
  {
   "cell_type": "code",
   "execution_count": 2,
   "metadata": {
    "collapsed": false
   },
   "outputs": [],
   "source": [
    "milton_paradise = gutenberg.raw('milton-paradise.txt')"
   ]
  },
  {
   "cell_type": "code",
   "execution_count": 3,
   "metadata": {
    "collapsed": false
   },
   "outputs": [
    {
     "data": {
      "text/plain": [
       "u'he End]\\x1a\\x1a\\n'"
      ]
     },
     "execution_count": 3,
     "metadata": {},
     "output_type": "execute_result"
    }
   ],
   "source": [
    "milton_paradise[-10:]"
   ]
  },
  {
   "cell_type": "code",
   "execution_count": 4,
   "metadata": {
    "collapsed": true
   },
   "outputs": [],
   "source": [
    "def text_preprocess(document):\n",
    "    sentences = nltk.sent_tokenize(document)\n",
    "    sentences = [nltk.word_tokenize(sent) for sent in sentences]\n",
    "    sentences = [nltk.pos_tag(sent) for sent in sentences]\n",
    "    return(sentences)"
   ]
  },
  {
   "cell_type": "code",
   "execution_count": 5,
   "metadata": {
    "collapsed": true
   },
   "outputs": [],
   "source": [
    "milton_paradise_sents = text_preprocess(milton_paradise)"
   ]
  },
  {
   "cell_type": "code",
   "execution_count": 6,
   "metadata": {
    "collapsed": false
   },
   "outputs": [],
   "source": [
    "import pandas as pd"
   ]
  },
  {
   "cell_type": "code",
   "execution_count": 7,
   "metadata": {
    "collapsed": false
   },
   "outputs": [],
   "source": [
    "pdf = pd.DataFrame({\n",
    "        'sentences': nltk.sent_tokenize(milton_paradise)\n",
    "    })\n",
    "df = spark.createDataFrame(pdf)"
   ]
  },
  {
   "cell_type": "code",
   "execution_count": 8,
   "metadata": {
    "collapsed": false
   },
   "outputs": [
    {
     "name": "stdout",
     "output_type": "stream",
     "text": [
      "+--------------------+\n",
      "|           sentences|\n",
      "+--------------------+\n",
      "|[Paradise Lost by...|\n",
      "|And chiefly thou,...|\n",
      "|Say first--for He...|\n",
      "|Who first seduced...|\n",
      "|Th' infernal Serp...|\n",
      "+--------------------+\n",
      "only showing top 5 rows\n",
      "\n"
     ]
    }
   ],
   "source": [
    "df.show(n=5)"
   ]
  },
  {
   "cell_type": "code",
   "execution_count": 87,
   "metadata": {
    "collapsed": false
   },
   "outputs": [
    {
     "data": {
      "text/plain": [
       "[(u'[', 'JJ'),\n",
       " (u'Paradise', 'NNP'),\n",
       " (u'Lost', 'VBN'),\n",
       " (u'by', 'IN'),\n",
       " (u'John', 'NNP')]"
      ]
     },
     "execution_count": 87,
     "metadata": {},
     "output_type": "execute_result"
    }
   ],
   "source": [
    "sent_to_tag_words(df.head()['sentences'])[:5]"
   ]
  },
  {
   "cell_type": "code",
   "execution_count": 9,
   "metadata": {
    "collapsed": true
   },
   "outputs": [],
   "source": [
    "from pyspark.sql.functions import udf\n",
    "from pyspark.sql.types import *"
   ]
  },
  {
   "cell_type": "code",
   "execution_count": 84,
   "metadata": {
    "collapsed": false
   },
   "outputs": [],
   "source": [
    "def sent_to_tag_words(sent):\n",
    "    wordlist = nltk.word_tokenize(sent)\n",
    "    tagged_words = nltk.pos_tag(wordlist)\n",
    "    return(tagged_words)\n",
    "schema = ArrayType(StructType([\n",
    "            StructField('word', StringType()),\n",
    "            StructField('pos_tag', StringType())\n",
    "        ]))\n",
    "sent_to_tag_words_udf = udf(sent_to_tag_words, schema)\n",
    "# word_tokenize_udf = udf(lambda x: nltk.word_tokenize(x), ArrayType(StringType()))\n",
    "# pos_tag_udf = udf(lambda x: nltk.pos_tag(x), ArrayType(ArrayType(StringType())))"
   ]
  },
  {
   "cell_type": "code",
   "execution_count": 85,
   "metadata": {
    "collapsed": false
   },
   "outputs": [
    {
     "name": "stdout",
     "output_type": "stream",
     "text": [
      "+--------------------+\n",
      "|        tagged_words|\n",
      "+--------------------+\n",
      "|[[[,JJ], [Paradis...|\n",
      "|[[And,CC], [chief...|\n",
      "|[[Say,NNP], [firs...|\n",
      "|[[Who,WP], [first...|\n",
      "|[[Th,NNP], [',POS...|\n",
      "+--------------------+\n",
      "only showing top 5 rows\n",
      "\n"
     ]
    }
   ],
   "source": [
    "df_tagged_words = df.select(sent_to_tag_words_udf(df.sentences).alias('tagged_words'))\n",
    "df_tagged_words.show(5)"
   ]
  },
  {
   "cell_type": "code",
   "execution_count": 12,
   "metadata": {
    "collapsed": false
   },
   "outputs": [],
   "source": [
    "# df_tokenized_words = df.select(word_tokenize_udf(df.sentences).alias('tokenized_words'))\n",
    "# df_pos_tagged_words = df_tokenized_words.select(pos_tag_udf(df_tokenized_words.tokenized_words).alias('pos_tagged_words'))"
   ]
  },
  {
   "cell_type": "code",
   "execution_count": 13,
   "metadata": {
    "collapsed": false
   },
   "outputs": [],
   "source": [
    "# nltk.pos_tag(df_tokenized_words.head()['tokenized_words'])\n",
    "# df_pos_tagged_words.show(truncate=False)"
   ]
  },
  {
   "cell_type": "code",
   "execution_count": null,
   "metadata": {
    "collapsed": false
   },
   "outputs": [],
   "source": []
  },
  {
   "cell_type": "code",
   "execution_count": null,
   "metadata": {
    "collapsed": false
   },
   "outputs": [],
   "source": []
  },
  {
   "cell_type": "code",
   "execution_count": null,
   "metadata": {
    "collapsed": false
   },
   "outputs": [],
   "source": []
  },
  {
   "cell_type": "markdown",
   "metadata": {
    "collapsed": true
   },
   "source": [
    "## Chunking\n",
    "**A simple noun phrase chunking**"
   ]
  },
  {
   "cell_type": "code",
   "execution_count": 105,
   "metadata": {
    "collapsed": false
   },
   "outputs": [],
   "source": [
    "import nltk\n",
    "from pyspark.sql.functions import udf\n",
    "from pyspark.sql.types import *\n",
    "\n",
    "# define a udf function to chunk noun phrases from pos-tagged words\n",
    "grammar = \"NP: {<DT>?<JJ>*<NN>}\"\n",
    "chunk_parser = nltk.RegexpParser(grammar)\n",
    "\n",
    "# schema = ArrayType(StructType([\n",
    "#             StructField('f1', StringType()),\n",
    "#             StructField('f2', StringType())\n",
    "#         ]))\n",
    "chunk_parser_udf = udf(lambda x: str(chunk_parser.parse(x)), StringType())"
   ]
  },
  {
   "cell_type": "code",
   "execution_count": 106,
   "metadata": {
    "collapsed": false
   },
   "outputs": [
    {
     "data": {
      "text/plain": [
       "[Row(word=u'[', pos_tag=u'JJ'),\n",
       " Row(word=u'Paradise', pos_tag=u'NNP'),\n",
       " Row(word=u'Lost', pos_tag=u'VBN'),\n",
       " Row(word=u'by', pos_tag=u'IN'),\n",
       " Row(word=u'John', pos_tag=u'NNP')]"
      ]
     },
     "execution_count": 106,
     "metadata": {},
     "output_type": "execute_result"
    }
   ],
   "source": [
    "tagged_word_sent = df_tagged_words.head()['tagged_words']\n",
    "tagged_word_sent[:5]"
   ]
  },
  {
   "cell_type": "code",
   "execution_count": 134,
   "metadata": {
    "collapsed": false
   },
   "outputs": [
    {
     "data": {
      "text/plain": [
       "[Row(word=u'[', pos_tag=u'JJ'),\n",
       " Row(word=u'Paradise', pos_tag=u'NNP'),\n",
       " Row(word=u'Lost', pos_tag=u'VBN'),\n",
       " Row(word=u'by', pos_tag=u'IN'),\n",
       " Row(word=u'John', pos_tag=u'NNP'),\n",
       " Row(word=u'Milton', pos_tag=u'NNP'),\n",
       " Row(word=u'1667', pos_tag=u'CD'),\n",
       " Row(word=u']', pos_tag=u'NNP'),\n",
       " Row(word=u'Book', pos_tag=u'NNP'),\n",
       " Row(word=u'I', pos_tag=u'PRP'),\n",
       " Row(word=u'Of', pos_tag=u'IN'),\n",
       " Row(word=u'Man', pos_tag=u'NNP'),\n",
       " Row(word=u\"'s\", pos_tag=u'POS'),\n",
       " Tree('NP', [Row(word=u'first', pos_tag=u'JJ'), Row(word=u'disobedience', pos_tag=u'NN')]),\n",
       " Row(word=u',', pos_tag=u','),\n",
       " Row(word=u'and', pos_tag=u'CC'),\n",
       " Tree('NP', [Row(word=u'the', pos_tag=u'DT'), Row(word=u'fruit', pos_tag=u'NN')]),\n",
       " Row(word=u'Of', pos_tag=u'IN'),\n",
       " Tree('NP', [Row(word=u'that', pos_tag=u'DT'), Row(word=u'forbidden', pos_tag=u'JJ'), Row(word=u'tree', pos_tag=u'NN')]),\n",
       " Row(word=u'whose', pos_tag=u'WP$'),\n",
       " Tree('NP', [Row(word=u'mortal', pos_tag=u'JJ'), Row(word=u'taste', pos_tag=u'NN')]),\n",
       " Row(word=u'Brought', pos_tag=u'NNP'),\n",
       " Tree('NP', [Row(word=u'death', pos_tag=u'NN')]),\n",
       " Row(word=u'into', pos_tag=u'IN'),\n",
       " Row(word=u'the', pos_tag=u'DT'),\n",
       " Row(word=u'World', pos_tag=u'NNP'),\n",
       " Row(word=u',', pos_tag=u','),\n",
       " Row(word=u'and', pos_tag=u'CC'),\n",
       " Row(word=u'all', pos_tag=u'DT'),\n",
       " Row(word=u'our', pos_tag=u'PRP$'),\n",
       " Tree('NP', [Row(word=u'woe', pos_tag=u'NN')]),\n",
       " Row(word=u',', pos_tag=u','),\n",
       " Row(word=u'With', pos_tag=u'IN'),\n",
       " Tree('NP', [Row(word=u'loss', pos_tag=u'NN')]),\n",
       " Row(word=u'of', pos_tag=u'IN'),\n",
       " Row(word=u'Eden', pos_tag=u'NNP'),\n",
       " Row(word=u',', pos_tag=u','),\n",
       " Row(word=u'till', pos_tag=u'VB'),\n",
       " Row(word=u'one', pos_tag=u'CD'),\n",
       " Row(word=u'greater', pos_tag=u'JJR'),\n",
       " Tree('NP', [Row(word=u'Man', pos_tag=u'NN')]),\n",
       " Row(word=u'Restore', pos_tag=u'NNP'),\n",
       " Row(word=u'us', pos_tag=u'PRP'),\n",
       " Row(word=u',', pos_tag=u','),\n",
       " Row(word=u'and', pos_tag=u'CC'),\n",
       " Row(word=u'regain', pos_tag=u'VB'),\n",
       " Tree('NP', [Row(word=u'the', pos_tag=u'DT'), Row(word=u'blissful', pos_tag=u'JJ'), Row(word=u'seat', pos_tag=u'NN')]),\n",
       " Row(word=u',', pos_tag=u','),\n",
       " Row(word=u'Sing', pos_tag=u'NNP'),\n",
       " Row(word=u',', pos_tag=u',')]"
      ]
     },
     "execution_count": 134,
     "metadata": {},
     "output_type": "execute_result"
    }
   ],
   "source": [
    "chunk_sent = chunk_parser.parse(tagged_word_sent)\n",
    "chunk_sent[:50]"
   ]
  },
  {
   "cell_type": "code",
   "execution_count": 108,
   "metadata": {
    "collapsed": false
   },
   "outputs": [],
   "source": [
    "df_NP_chunks = df_tagged_words.select(chunk_parser_udf(df_tagged_words.tagged_words).alias('NP_chunk'))"
   ]
  },
  {
   "cell_type": "code",
   "execution_count": 109,
   "metadata": {
    "collapsed": false
   },
   "outputs": [
    {
     "name": "stdout",
     "output_type": "stream",
     "text": [
      "+---------------------------------------------------------------------------------------------------------------------------------------------------------------------------------------------------------------------------------------------------------------------------------------------------------------------------------------------------------------------------------------------------------------------------------------------------------------------------------------------------------------------------------------------------------------------------------------------------------------------------------------------------------------------------------------------------------------------------------------------------------------------------------------------------------------------------------------------------------------------------------------------------------------------------------------------------------------------------------------------------------------------------------------------------------------------------------------------------------------------------------------------------------------------------------------------------------------------------------------------------------------------------------------------------------------------------------------------------------------------------------------------------------------------------------------------------------------------------------------------------------------------------------------------------------------------------------------------------------------------------------------------------------------------------------------------------------------------+\n",
      "|NP_chunk                                                                                                                                                                                                                                                                                                                                                                                                                                                                                                                                                                                                                                                                                                                                                                                                                                                                                                                                                                                                                                                                                                                                                                                                                                                                                                                                                                                                                                                                                                                                                                                                                                                                                                             |\n",
      "+---------------------------------------------------------------------------------------------------------------------------------------------------------------------------------------------------------------------------------------------------------------------------------------------------------------------------------------------------------------------------------------------------------------------------------------------------------------------------------------------------------------------------------------------------------------------------------------------------------------------------------------------------------------------------------------------------------------------------------------------------------------------------------------------------------------------------------------------------------------------------------------------------------------------------------------------------------------------------------------------------------------------------------------------------------------------------------------------------------------------------------------------------------------------------------------------------------------------------------------------------------------------------------------------------------------------------------------------------------------------------------------------------------------------------------------------------------------------------------------------------------------------------------------------------------------------------------------------------------------------------------------------------------------------------------------------------------------------+\n",
      "|(S\n",
      "  [/JJ\n",
      "  Paradise/NNP\n",
      "  Lost/VBN\n",
      "  by/IN\n",
      "  John/NNP\n",
      "  Milton/NNP\n",
      "  1667/CD\n",
      "  ]/NNP\n",
      "  Book/NNP\n",
      "  I/PRP\n",
      "  Of/IN\n",
      "  Man/NNP\n",
      "  's/POS\n",
      "  (NP first/JJ disobedience/NN)\n",
      "  ,/,\n",
      "  and/CC\n",
      "  (NP the/DT fruit/NN)\n",
      "  Of/IN\n",
      "  (NP that/DT forbidden/JJ tree/NN)\n",
      "  whose/WP$\n",
      "  (NP mortal/JJ taste/NN)\n",
      "  Brought/NNP\n",
      "  (NP death/NN)\n",
      "  into/IN\n",
      "  the/DT\n",
      "  World/NNP\n",
      "  ,/,\n",
      "  and/CC\n",
      "  all/DT\n",
      "  our/PRP$\n",
      "  (NP woe/NN)\n",
      "  ,/,\n",
      "  With/IN\n",
      "  (NP loss/NN)\n",
      "  of/IN\n",
      "  Eden/NNP\n",
      "  ,/,\n",
      "  till/VB\n",
      "  one/CD\n",
      "  greater/JJR\n",
      "  (NP Man/NN)\n",
      "  Restore/NNP\n",
      "  us/PRP\n",
      "  ,/,\n",
      "  and/CC\n",
      "  regain/VB\n",
      "  (NP the/DT blissful/JJ seat/NN)\n",
      "  ,/,\n",
      "  Sing/NNP\n",
      "  ,/,\n",
      "  Heavenly/NNP\n",
      "  Muse/NNP\n",
      "  ,/,\n",
      "  that/WDT\n",
      "  ,/,\n",
      "  on/IN\n",
      "  (NP the/DT secret/JJ top/NN)\n",
      "  Of/IN\n",
      "  Oreb/NNP\n",
      "  ,/,\n",
      "  or/CC\n",
      "  of/IN\n",
      "  Sinai/NNP\n",
      "  ,/,\n",
      "  (NP didst/NN)\n",
      "  (NP inspire/NN)\n",
      "  That/WDT\n",
      "  (NP shepherd/NN)\n",
      "  who/WP\n",
      "  first/RB\n",
      "  taught/VBD\n",
      "  (NP the/DT chosen/NN)\n",
      "  (NP seed/NN)\n",
      "  In/IN\n",
      "  (NP the/DT beginning/NN)\n",
      "  how/WRB\n",
      "  the/DT\n",
      "  heavens/NNS\n",
      "  and/CC\n",
      "  (NP earth/NN)\n",
      "  Rose/NNP\n",
      "  out/IN\n",
      "  of/IN\n",
      "  (NP Chaos/NN)\n",
      "  :/:\n",
      "  or/CC\n",
      "  ,/,\n",
      "  if/IN\n",
      "  Sion/NNP\n",
      "  (NP hill/NN)\n",
      "  Delight/NNP\n",
      "  (NP thee/NN)\n",
      "  more/RBR\n",
      "  ,/,\n",
      "  and/CC\n",
      "  Siloa/NNP\n",
      "  's/POS\n",
      "  (NP brook/NN)\n",
      "  that/WDT\n",
      "  flowed/VBD\n",
      "  Fast/NNP\n",
      "  by/IN\n",
      "  (NP the/DT oracle/NN)\n",
      "  of/IN\n",
      "  God/NNP\n",
      "  ,/,\n",
      "  I/PRP\n",
      "  thence/VBP\n",
      "  Invoke/NNP\n",
      "  (NP thy/NN)\n",
      "  (NP aid/NN)\n",
      "  to/TO\n",
      "  my/PRP$\n",
      "  (NP adventurous/JJ song/NN)\n",
      "  ,/,\n",
      "  That/IN\n",
      "  with/IN\n",
      "  (NP no/DT middle/JJ flight/NN)\n",
      "  intends/VBZ\n",
      "  to/TO\n",
      "  soar/VB\n",
      "  Above/NNP\n",
      "  (NP th/NN)\n",
      "  '/''\n",
      "  (NP Aonian/JJ mount/NN)\n",
      "  ,/,\n",
      "  while/IN\n",
      "  it/PRP\n",
      "  pursues/VBZ\n",
      "  Things/NNP\n",
      "  unattempted/JJ\n",
      "  yet/RB\n",
      "  in/IN\n",
      "  (NP prose/NN)\n",
      "  or/CC\n",
      "  (NP rhyme/NN)\n",
      "  ./.)|\n",
      "|(S\n",
      "  And/CC\n",
      "  (NP chiefly/NN)\n",
      "  (NP thou/NN)\n",
      "  ,/,\n",
      "  O/NNP\n",
      "  Spirit/NNP\n",
      "  ,/,\n",
      "  that/IN\n",
      "  (NP dost/NN)\n",
      "  (NP prefer/NN)\n",
      "  Before/IN\n",
      "  all/DT\n",
      "  temples/NNS\n",
      "  th/VBP\n",
      "  '/''\n",
      "  (NP upright/JJ heart/NN)\n",
      "  and/CC\n",
      "  (NP pure/NN)\n",
      "  ,/,\n",
      "  Instruct/NNP\n",
      "  me/PRP\n",
      "  ,/,\n",
      "  for/IN\n",
      "  (NP thou/JJ know'st/NN)\n",
      "  ;/:\n",
      "  thou/CC\n",
      "  from/IN\n",
      "  the/DT\n",
      "  first/JJ\n",
      "  Wast/NNP\n",
      "  (NP present/NN)\n",
      "  ,/,\n",
      "  and/CC\n",
      "  ,/,\n",
      "  with/IN\n",
      "  mighty/JJ\n",
      "  wings/NNS\n",
      "  outspread/VBP\n",
      "  ,/,\n",
      "  Dove-like/NNP\n",
      "  (NP sat'st/NN)\n",
      "  brooding/VBG\n",
      "  on/IN\n",
      "  the/DT\n",
      "  vast/JJ\n",
      "  Abyss/NNP\n",
      "  ,/,\n",
      "  And/CC\n",
      "  mad'st/VB\n",
      "  it/PRP\n",
      "  pregnant/JJ\n",
      "  :/:\n",
      "  what/WP\n",
      "  in/IN\n",
      "  me/PRP\n",
      "  is/VBZ\n",
      "  dark/JJ\n",
      "  Illumine/NNP\n",
      "  ,/,\n",
      "  what/WP\n",
      "  is/VBZ\n",
      "  (NP low/JJ raise/NN)\n",
      "  and/CC\n",
      "  (NP support/NN)\n",
      "  ;/:\n",
      "  That/DT\n",
      "  ,/,\n",
      "  to/TO\n",
      "  (NP the/DT height/NN)\n",
      "  of/IN\n",
      "  (NP this/DT great/JJ argument/NN)\n",
      "  ,/,\n",
      "  I/PRP\n",
      "  may/MD\n",
      "  assert/VB\n",
      "  Eternal/NNP\n",
      "  Providence/NNP\n",
      "  ,/,\n",
      "  And/CC\n",
      "  justify/VB\n",
      "  the/DT\n",
      "  ways/NNS\n",
      "  of/IN\n",
      "  God/NNP\n",
      "  to/TO\n",
      "  men/NNS\n",
      "  ./.)                                                                                                                                                                                                                                                                                                                                                                                                                                                                                                                                                                                                                                                                                                   |\n",
      "+---------------------------------------------------------------------------------------------------------------------------------------------------------------------------------------------------------------------------------------------------------------------------------------------------------------------------------------------------------------------------------------------------------------------------------------------------------------------------------------------------------------------------------------------------------------------------------------------------------------------------------------------------------------------------------------------------------------------------------------------------------------------------------------------------------------------------------------------------------------------------------------------------------------------------------------------------------------------------------------------------------------------------------------------------------------------------------------------------------------------------------------------------------------------------------------------------------------------------------------------------------------------------------------------------------------------------------------------------------------------------------------------------------------------------------------------------------------------------------------------------------------------------------------------------------------------------------------------------------------------------------------------------------------------------------------------------------------------+\n",
      "only showing top 2 rows\n",
      "\n"
     ]
    }
   ],
   "source": [
    "df_NP_chunks.show(2, truncate=False)"
   ]
  },
  {
   "cell_type": "code",
   "execution_count": 112,
   "metadata": {
    "collapsed": false
   },
   "outputs": [],
   "source": [
    "NP_chunk_string = df_NP_chunks.head()['NP_chunk']"
   ]
  },
  {
   "cell_type": "code",
   "execution_count": 115,
   "metadata": {
    "collapsed": false
   },
   "outputs": [],
   "source": [
    "# nltk.ne_chunk(NP_chunk_string, binary=True)"
   ]
  },
  {
   "cell_type": "code",
   "execution_count": 117,
   "metadata": {
    "collapsed": false
   },
   "outputs": [],
   "source": [
    "NP_chunk_tree = nltk.chunk.tagstr2tree(NP_chunk_string)"
   ]
  },
  {
   "cell_type": "code",
   "execution_count": 129,
   "metadata": {
    "collapsed": false
   },
   "outputs": [
    {
     "data": {
      "text/plain": [
       "nltk.tree.Tree"
      ]
     },
     "execution_count": 129,
     "metadata": {},
     "output_type": "execute_result"
    }
   ],
   "source": [
    "type(NP_chunk_tree)"
   ]
  },
  {
   "cell_type": "code",
   "execution_count": 131,
   "metadata": {
    "collapsed": false
   },
   "outputs": [
    {
     "data": {
      "text/plain": [
       "[(u'(S', None),\n",
       " (u'', u'JJ'),\n",
       " (u'Paradise', u'NNP'),\n",
       " (u'Lost', u'VBN'),\n",
       " (u'by', u'IN'),\n",
       " (u'John', u'NNP'),\n",
       " (u'Milton', u'NNP'),\n",
       " (u'1667', u'CD'),\n",
       " (u'', u'NNP'),\n",
       " (u'Book', u'NNP'),\n",
       " (u'I', u'PRP'),\n",
       " (u'Of', u'IN'),\n",
       " (u'Man', u'NNP'),\n",
       " (u\"'s\", u'POS'),\n",
       " (u'(NP', None),\n",
       " (u'first', u'JJ'),\n",
       " (u'disobedience', u'NN)'),\n",
       " (u',', u','),\n",
       " (u'and', u'CC'),\n",
       " (u'(NP', None),\n",
       " (u'the', u'DT'),\n",
       " (u'fruit', u'NN)'),\n",
       " (u'Of', u'IN'),\n",
       " (u'(NP', None),\n",
       " (u'that', u'DT'),\n",
       " (u'forbidden', u'JJ'),\n",
       " (u'tree', u'NN)'),\n",
       " (u'whose', u'WP$'),\n",
       " (u'(NP', None),\n",
       " (u'mortal', u'JJ'),\n",
       " (u'taste', u'NN)'),\n",
       " (u'Brought', u'NNP'),\n",
       " (u'(NP', None),\n",
       " (u'death', u'NN)'),\n",
       " (u'into', u'IN'),\n",
       " (u'the', u'DT'),\n",
       " (u'World', u'NNP'),\n",
       " (u',', u','),\n",
       " (u'and', u'CC'),\n",
       " (u'all', u'DT'),\n",
       " (u'our', u'PRP$'),\n",
       " (u'(NP', None),\n",
       " (u'woe', u'NN)'),\n",
       " (u',', u','),\n",
       " (u'With', u'IN'),\n",
       " (u'(NP', None),\n",
       " (u'loss', u'NN)'),\n",
       " (u'of', u'IN'),\n",
       " (u'Eden', u'NNP'),\n",
       " (u',', u','),\n",
       " (u'till', u'VB'),\n",
       " (u'one', u'CD'),\n",
       " (u'greater', u'JJR'),\n",
       " (u'(NP', None),\n",
       " (u'Man', u'NN)'),\n",
       " (u'Restore', u'NNP'),\n",
       " (u'us', u'PRP'),\n",
       " (u',', u','),\n",
       " (u'and', u'CC'),\n",
       " (u'regain', u'VB'),\n",
       " (u'(NP', None),\n",
       " (u'the', u'DT'),\n",
       " (u'blissful', u'JJ'),\n",
       " (u'seat', u'NN)'),\n",
       " (u',', u','),\n",
       " (u'Sing', u'NNP'),\n",
       " (u',', u','),\n",
       " (u'Heavenly', u'NNP'),\n",
       " (u'Muse', u'NNP'),\n",
       " (u',', u','),\n",
       " (u'that', u'WDT'),\n",
       " (u',', u','),\n",
       " (u'on', u'IN'),\n",
       " (u'(NP', None),\n",
       " (u'the', u'DT'),\n",
       " (u'secret', u'JJ'),\n",
       " (u'top', u'NN)'),\n",
       " (u'Of', u'IN'),\n",
       " (u'Oreb', u'NNP'),\n",
       " (u',', u','),\n",
       " (u'or', u'CC'),\n",
       " (u'of', u'IN'),\n",
       " (u'Sinai', u'NNP'),\n",
       " (u',', u','),\n",
       " (u'(NP', None),\n",
       " (u'didst', u'NN)'),\n",
       " (u'(NP', None),\n",
       " (u'inspire', u'NN)'),\n",
       " (u'That', u'WDT'),\n",
       " (u'(NP', None),\n",
       " (u'shepherd', u'NN)'),\n",
       " (u'who', u'WP'),\n",
       " (u'first', u'RB'),\n",
       " (u'taught', u'VBD'),\n",
       " (u'(NP', None),\n",
       " (u'the', u'DT'),\n",
       " (u'chosen', u'NN)'),\n",
       " (u'(NP', None),\n",
       " (u'seed', u'NN)'),\n",
       " (u'In', u'IN'),\n",
       " (u'(NP', None),\n",
       " (u'the', u'DT'),\n",
       " (u'beginning', u'NN)'),\n",
       " (u'how', u'WRB'),\n",
       " (u'the', u'DT'),\n",
       " (u'heavens', u'NNS'),\n",
       " (u'and', u'CC'),\n",
       " (u'(NP', None),\n",
       " (u'earth', u'NN)'),\n",
       " (u'Rose', u'NNP'),\n",
       " (u'out', u'IN'),\n",
       " (u'of', u'IN'),\n",
       " (u'(NP', None),\n",
       " (u'Chaos', u'NN)'),\n",
       " (u':', u':'),\n",
       " (u'or', u'CC'),\n",
       " (u',', u','),\n",
       " (u'if', u'IN'),\n",
       " (u'Sion', u'NNP'),\n",
       " (u'(NP', None),\n",
       " (u'hill', u'NN)'),\n",
       " (u'Delight', u'NNP'),\n",
       " (u'(NP', None),\n",
       " (u'thee', u'NN)'),\n",
       " (u'more', u'RBR'),\n",
       " (u',', u','),\n",
       " (u'and', u'CC'),\n",
       " (u'Siloa', u'NNP'),\n",
       " (u\"'s\", u'POS'),\n",
       " (u'(NP', None),\n",
       " (u'brook', u'NN)'),\n",
       " (u'that', u'WDT'),\n",
       " (u'flowed', u'VBD'),\n",
       " (u'Fast', u'NNP'),\n",
       " (u'by', u'IN'),\n",
       " (u'(NP', None),\n",
       " (u'the', u'DT'),\n",
       " (u'oracle', u'NN)'),\n",
       " (u'of', u'IN'),\n",
       " (u'God', u'NNP'),\n",
       " (u',', u','),\n",
       " (u'I', u'PRP'),\n",
       " (u'thence', u'VBP'),\n",
       " (u'Invoke', u'NNP'),\n",
       " (u'(NP', None),\n",
       " (u'thy', u'NN)'),\n",
       " (u'(NP', None),\n",
       " (u'aid', u'NN)'),\n",
       " (u'to', u'TO'),\n",
       " (u'my', u'PRP$'),\n",
       " (u'(NP', None),\n",
       " (u'adventurous', u'JJ'),\n",
       " (u'song', u'NN)'),\n",
       " (u',', u','),\n",
       " (u'That', u'IN'),\n",
       " (u'with', u'IN'),\n",
       " (u'(NP', None),\n",
       " (u'no', u'DT'),\n",
       " (u'middle', u'JJ'),\n",
       " (u'flight', u'NN)'),\n",
       " (u'intends', u'VBZ'),\n",
       " (u'to', u'TO'),\n",
       " (u'soar', u'VB'),\n",
       " (u'Above', u'NNP'),\n",
       " (u'(NP', None),\n",
       " (u'th', u'NN)'),\n",
       " (u\"'\", u\"''\"),\n",
       " (u'(NP', None),\n",
       " (u'Aonian', u'JJ'),\n",
       " (u'mount', u'NN)'),\n",
       " (u',', u','),\n",
       " (u'while', u'IN'),\n",
       " (u'it', u'PRP'),\n",
       " (u'pursues', u'VBZ'),\n",
       " (u'Things', u'NNP'),\n",
       " (u'unattempted', u'JJ'),\n",
       " (u'yet', u'RB'),\n",
       " (u'in', u'IN'),\n",
       " (u'(NP', None),\n",
       " (u'prose', u'NN)'),\n",
       " (u'or', u'CC'),\n",
       " (u'(NP', None),\n",
       " (u'rhyme', u'NN)'),\n",
       " (u'.', u'.)')]"
      ]
     },
     "execution_count": 131,
     "metadata": {},
     "output_type": "execute_result"
    }
   ],
   "source": [
    "NP_chunk_tree.leaves()"
   ]
  },
  {
   "cell_type": "code",
   "execution_count": 133,
   "metadata": {
    "collapsed": false
   },
   "outputs": [
    {
     "name": "stdout",
     "output_type": "stream",
     "text": [
      "(S\n",
      "  [/JJ\n",
      "  (ORGANIZATION Paradise/NNP)\n",
      "  Lost/VBN\n",
      "  by/IN\n",
      "  (PERSON John/NNP Milton/NNP)\n",
      "  1667/CD\n",
      "  ]/NNP\n",
      "  Book/NNP\n",
      "  I/PRP\n",
      "  Of/IN\n",
      "  (PERSON Man/NNP)\n",
      "  's/POS\n",
      "  first/JJ\n",
      "  disobedience/NN\n",
      "  ,/,\n",
      "  and/CC\n",
      "  the/DT\n",
      "  fruit/NN\n",
      "  Of/IN\n",
      "  that/DT\n",
      "  forbidden/JJ\n",
      "  tree/NN\n",
      "  whose/WP$\n",
      "  mortal/JJ\n",
      "  taste/NN\n",
      "  (PERSON Brought/NNP)\n",
      "  death/NN\n",
      "  into/IN\n",
      "  the/DT\n",
      "  World/NNP\n",
      "  ,/,\n",
      "  and/CC\n",
      "  all/DT\n",
      "  our/PRP$\n",
      "  woe/NN\n",
      "  ,/,\n",
      "  With/IN\n",
      "  loss/NN\n",
      "  of/IN\n",
      "  (GPE Eden/NNP)\n",
      "  ,/,\n",
      "  till/VB\n",
      "  one/CD\n",
      "  greater/JJR\n",
      "  Man/NN\n",
      "  Restore/NNP\n",
      "  us/PRP\n",
      "  ,/,\n",
      "  and/CC\n",
      "  regain/VB\n",
      "  the/DT\n",
      "  blissful/JJ\n",
      "  seat/NN\n",
      "  ,/,\n",
      "  (GPE Sing/NNP)\n",
      "  ,/,\n",
      "  (PERSON Heavenly/NNP Muse/NNP)\n",
      "  ,/,\n",
      "  that/WDT\n",
      "  ,/,\n",
      "  on/IN\n",
      "  the/DT\n",
      "  secret/JJ\n",
      "  top/NN\n",
      "  Of/IN\n",
      "  (GPE Oreb/NNP)\n",
      "  ,/,\n",
      "  or/CC\n",
      "  of/IN\n",
      "  (GPE Sinai/NNP)\n",
      "  ,/,\n",
      "  didst/NN\n",
      "  inspire/NN\n",
      "  That/WDT\n",
      "  shepherd/NN\n",
      "  who/WP\n",
      "  first/RB\n",
      "  taught/VBD\n",
      "  the/DT\n",
      "  chosen/NN\n",
      "  seed/NN\n",
      "  In/IN\n",
      "  the/DT\n",
      "  beginning/NN\n",
      "  how/WRB\n",
      "  the/DT\n",
      "  heavens/NNS\n",
      "  and/CC\n",
      "  earth/NN\n",
      "  Rose/NNP\n",
      "  out/IN\n",
      "  of/IN\n",
      "  Chaos/NN\n",
      "  :/:\n",
      "  or/CC\n",
      "  ,/,\n",
      "  if/IN\n",
      "  (PERSON Sion/NNP)\n",
      "  hill/NN\n",
      "  (PERSON Delight/NNP)\n",
      "  thee/NN\n",
      "  more/RBR\n",
      "  ,/,\n",
      "  and/CC\n",
      "  (PERSON Siloa/NNP)\n",
      "  's/POS\n",
      "  brook/NN\n",
      "  that/WDT\n",
      "  flowed/VBD\n",
      "  Fast/NNP\n",
      "  by/IN\n",
      "  the/DT\n",
      "  oracle/NN\n",
      "  of/IN\n",
      "  (GPE God/NNP)\n",
      "  ,/,\n",
      "  I/PRP\n",
      "  thence/VBP\n",
      "  (PERSON Invoke/NNP)\n",
      "  thy/NN\n",
      "  aid/NN\n",
      "  to/TO\n",
      "  my/PRP$\n",
      "  adventurous/JJ\n",
      "  song/NN\n",
      "  ,/,\n",
      "  That/IN\n",
      "  with/IN\n",
      "  no/DT\n",
      "  middle/JJ\n",
      "  flight/NN\n",
      "  intends/VBZ\n",
      "  to/TO\n",
      "  soar/VB\n",
      "  (PERSON Above/NNP)\n",
      "  th/NN\n",
      "  '/''\n",
      "  (GPE Aonian/JJ)\n",
      "  mount/NN\n",
      "  ,/,\n",
      "  while/IN\n",
      "  it/PRP\n",
      "  pursues/VBZ\n",
      "  (PERSON Things/NNP)\n",
      "  unattempted/JJ\n",
      "  yet/RB\n",
      "  in/IN\n",
      "  prose/NN\n",
      "  or/CC\n",
      "  rhyme/NN\n",
      "  ./.)\n"
     ]
    }
   ],
   "source": [
    "print(nltk.ne_chunk(df_tagged_words.head()['tagged_words']))"
   ]
  },
  {
   "cell_type": "code",
   "execution_count": null,
   "metadata": {
    "collapsed": true
   },
   "outputs": [],
   "source": []
  }
 ],
 "metadata": {
  "anaconda-cloud": {},
  "kernelspec": {
   "display_name": "Python [Root]",
   "language": "python",
   "name": "Python [Root]"
  },
  "language_info": {
   "codemirror_mode": {
    "name": "ipython",
    "version": 2
   },
   "file_extension": ".py",
   "mimetype": "text/x-python",
   "name": "python",
   "nbconvert_exporter": "python",
   "pygments_lexer": "ipython2",
   "version": "2.7.13"
  }
 },
 "nbformat": 4,
 "nbformat_minor": 2
}
